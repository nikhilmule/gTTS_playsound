{
 "cells": [
  {
   "cell_type": "code",
   "execution_count": 4,
   "metadata": {},
   "outputs": [
    {
     "name": "stdout",
     "output_type": "stream",
     "text": [
      "mein name\n"
     ]
    }
   ],
   "source": [
    "from gtts import gTTS\n",
    "\n",
    "import os \n",
    "\n",
    "mytext = input('')\n",
    "\n",
    "language = 'de'\n",
    "\n",
    "if  len(mytext) < 20000:\n",
    "    \n",
    "    myobj = gTTS(text = mytext, lang=language, slow = False)\n",
    "\n",
    "    myobj.save('clip.mp3')\n",
    "    os.system(\"mpg321 clip.mp3\")\n",
    "\n",
    "    from playsound import playsound\n",
    "    playsound('clip.mp3')\n",
    "\n",
    "else:\n",
    "    print ('sorry out of range')\n",
    "\n",
    "os.remove('clip.mp3')\n"
   ]
  },
  {
   "cell_type": "code",
   "execution_count": null,
   "metadata": {},
   "outputs": [],
   "source": []
  },
  {
   "cell_type": "code",
   "execution_count": null,
   "metadata": {},
   "outputs": [],
   "source": []
  }
 ],
 "metadata": {
  "kernelspec": {
   "display_name": "Python 3",
   "language": "python",
   "name": "python3"
  },
  "language_info": {
   "codemirror_mode": {
    "name": "ipython",
    "version": 3
   },
   "file_extension": ".py",
   "mimetype": "text/x-python",
   "name": "python",
   "nbconvert_exporter": "python",
   "pygments_lexer": "ipython3",
   "version": "3.8.5"
  }
 },
 "nbformat": 4,
 "nbformat_minor": 4
}
